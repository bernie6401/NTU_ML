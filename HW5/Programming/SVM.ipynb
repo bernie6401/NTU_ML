{
  "cells": [
    {
      "cell_type": "code",
      "execution_count": null,
      "metadata": {
        "id": "q00JF9knfdhg"
      },
      "outputs": [],
      "source": [
        "!gdown 1sCTQXp9kTcm8_jckqC-v_gWxIsFCcUbS\n",
        "!gdown 1vK24A09o5Nev5qj1qNhndFe6beTWSDRU\n",
        "!gdown 1THvOuf_EOn6c_6TLy0Bqs23BP2NraBR2"
      ]
    },
    {
      "cell_type": "code",
      "execution_count": null,
      "metadata": {
        "id": "-i7a0zITdd0h"
      },
      "outputs": [],
      "source": [
        "import numpy as np\n",
        "import pandas as pd\n",
        "import csv\n",
        "from sklearn.svm import SVC"
      ]
    },
    {
      "cell_type": "code",
      "execution_count": null,
      "metadata": {
        "id": "14_RdKtHfu1j"
      },
      "outputs": [],
      "source": [
        "def normalize(X, mu_x=None, std_x=None):\n",
        "  pass\n",
        "  \n",
        "  return X\n",
        "\n",
        "def load_train():\n",
        "  X = pd.read_csv(\"X_train\")  # 'age', 'fnlwgt', 'hours_per_week', 'capital_gain', 'capital_loss' are coninuous, others are discrete\n",
        "  Y = pd.read_csv(\"Y_train\", header = None).values.reshape(-1)\n",
        "  X = normalize(X)\n",
        "\n",
        "  return X, Y\n",
        "\n",
        "def load_test():\n",
        "  X = pd.read_csv(\"X_test\")\n",
        "  X = normalize(X)\n",
        "  return X"
      ]
    },
    {
      "cell_type": "code",
      "execution_count": null,
      "metadata": {
        "id": "EvWtcFbzgCG4"
      },
      "outputs": [],
      "source": [
        "train_X, train_Y= load_train()\n",
        "test_X = load_test()"
      ]
    },
    {
      "cell_type": "code",
      "execution_count": null,
      "metadata": {
        "colab": {
          "background_save": true
        },
        "id": "RNTx_SOIk53U"
      },
      "outputs": [],
      "source": [
        "clf = SVC(kernel='linear', random_state=0)\n",
        "clf.fit(train_X, train_Y)"
      ]
    },
    {
      "cell_type": "code",
      "execution_count": null,
      "metadata": {
        "id": "LS6LHG3bntKv"
      },
      "outputs": [],
      "source": [
        "results = clf.predict(test_X)\n",
        "with open('predict.csv', 'w', newline='') as f:\n",
        "    writer = csv.writer(f)\n",
        "    writer.writerow(['id','label'])\n",
        "    for i, x in enumerate(results):\n",
        "      writer.writerow([i + 1, int(x)])"
      ]
    }
  ],
  "metadata": {
    "colab": {
      "provenance": []
    },
    "kernelspec": {
      "display_name": "Python 3",
      "name": "python3"
    },
    "language_info": {
      "name": "python"
    }
  },
  "nbformat": 4,
  "nbformat_minor": 0
}
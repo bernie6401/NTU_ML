{
  "cells": [
    {
      "cell_type": "code",
      "execution_count": 1,
      "metadata": {
        "id": "-i7a0zITdd0h"
      },
      "outputs": [],
      "source": [
        "import numpy as np\n",
        "import pandas as pd\n",
        "import csv\n",
        "from sklearn.svm import SVC"
      ]
    },
    {
      "cell_type": "code",
      "execution_count": 2,
      "metadata": {
        "id": "14_RdKtHfu1j"
      },
      "outputs": [],
      "source": [
        "def normalize(X, mu_x=None, std_x=None):\n",
        "  pass\n",
        "  \n",
        "  return X\n",
        "\n",
        "def load_train():\n",
        "  X = pd.read_csv(\"./dataset/X_train\")  # 'age', 'fnlwgt', 'hours_per_week', 'capital_gain', 'capital_loss' are coninuous, others are discrete\n",
        "  Y = pd.read_csv(\"./dataset/Y_train\", header = None).values.reshape(-1)\n",
        "  X = normalize(X)\n",
        "\n",
        "  return X, Y\n",
        "\n",
        "def load_test():\n",
        "  X = pd.read_csv(\"./dataset/X_test\")\n",
        "  X = normalize(X)\n",
        "  return X"
      ]
    },
    {
      "cell_type": "code",
      "execution_count": 3,
      "metadata": {
        "id": "EvWtcFbzgCG4"
      },
      "outputs": [],
      "source": [
        "train_X, train_Y= load_train()\n",
        "test_X = load_test()"
      ]
    },
    {
      "cell_type": "code",
      "execution_count": 7,
      "metadata": {
        "colab": {
          "background_save": true
        },
        "id": "RNTx_SOIk53U"
      },
      "outputs": [
        {
          "data": {
            "text/plain": [
              "SVC(random_state=0)"
            ]
          },
          "execution_count": 7,
          "metadata": {},
          "output_type": "execute_result"
        }
      ],
      "source": [
        "clf = SVC(kernel='rbf', random_state=0)\n",
        "clf.fit(train_X, train_Y)"
      ]
    },
    {
      "cell_type": "code",
      "execution_count": 9,
      "metadata": {
        "id": "LS6LHG3bntKv"
      },
      "outputs": [],
      "source": [
        "results = clf.predict(test_X)\n",
        "with open('./testing_result/predict.csv', 'w', newline='') as f:\n",
        "    writer = csv.writer(f)\n",
        "    writer.writerow(['id','label'])\n",
        "    for i, x in enumerate(results):\n",
        "      writer.writerow([i + 1, int(x)])"
      ]
    }
  ],
  "metadata": {
    "colab": {
      "provenance": []
    },
    "kernelspec": {
      "display_name": "NTU_ML",
      "language": "python",
      "name": "python3"
    },
    "language_info": {
      "codemirror_mode": {
        "name": "ipython",
        "version": 3
      },
      "file_extension": ".py",
      "mimetype": "text/x-python",
      "name": "python",
      "nbconvert_exporter": "python",
      "pygments_lexer": "ipython3",
      "version": "3.8.13"
    },
    "vscode": {
      "interpreter": {
        "hash": "a04df75c32766f3d499272b3c4b6cc9162998ee7afe31618e8fd853f9d59c375"
      }
    }
  },
  "nbformat": 4,
  "nbformat_minor": 0
}
